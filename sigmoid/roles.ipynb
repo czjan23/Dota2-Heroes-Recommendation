{
 "cells": [
  {
   "cell_type": "code",
   "execution_count": 1,
   "metadata": {},
   "outputs": [
    {
     "name": "stdout",
     "output_type": "stream",
     "text": [
      "{'Pusher', 'Durable', 'Jungler', 'Carry', 'Initiator', 'Nuker', 'Escape', 'Support', 'Disabler'}\n"
     ]
    }
   ],
   "source": [
    "import json\n",
    "info = []\n",
    "with open('heroes.json','r') as file :\n",
    "    for line in file :\n",
    "        info.append(json.loads(line))\n",
    "# print(info[0])\n",
    "roles = []\n",
    "i = 1\n",
    "for dic in info:\n",
    "    newDic = {'id': i, 'name': dic['name'], 'roles': dic['roles']}\n",
    "    roles.append(newDic)\n",
    "    i += 1\n",
    "\n",
    "# for x in range(len(roles)):\n",
    "#     print(roles)\n",
    "#     print('\\n')\n",
    "\n",
    "rolesType = []\n",
    "for x in range(len(roles)):\n",
    "    for role in roles[x]['roles']:\n",
    "        rolesType.append(role)\n",
    "        \n",
    "print(set(rolesType))\n",
    "# print(roles)\n",
    "\n"
   ]
  },
  {
   "cell_type": "code",
   "execution_count": 2,
   "metadata": {},
   "outputs": [
    {
     "name": "stdout",
     "output_type": "stream",
     "text": [
      "['Pusher', 'Durable', 'Jungler', 'Carry', 'Initiator', 'Nuker', 'Escape', 'Support', 'Disabler']\n",
      "[[0, 0, 0, 1, 0, 1, 1, 0, 0], [0, 1, 1, 0, 1, 0, 0, 0, 1], [0, 1, 0, 0, 0, 1, 0, 1, 1]]\n"
     ]
    }
   ],
   "source": [
    "# calculate similarity between heroes\n",
    "rolesType= list(set(rolesType))\n",
    "print(rolesType)\n",
    "\n",
    "role_list = []\n",
    "for x in range(len(roles)):\n",
    "    role_list_element = []\n",
    "    for i in range(9):\n",
    "        role_list_element.append(0)\n",
    "    for role in roles[x]['roles']:\n",
    "        role_list_element[rolesType.index(role)] = 1\n",
    "    role_list.append(role_list_element)\n",
    "    \n",
    "print(role_list[0:3])"
   ]
  },
  {
   "cell_type": "code",
   "execution_count": 3,
   "metadata": {},
   "outputs": [],
   "source": [
    "import math\n",
    "\n",
    "def getDenominator(a_list):\n",
    "    res = 0\n",
    "    for x in range(9):\n",
    "        res += a_list[x]\n",
    "    return math.sqrt(res)\n",
    "\n",
    "\n",
    "\n",
    "def getSimilarity(i, j):\n",
    "    \n",
    "    listI = role_list[i]\n",
    "    listJ = role_list[j]\n",
    "    res = 0\n",
    "    for x in range(9):\n",
    "        res += listI[x] * listJ[x]\n",
    "#         getDenominator(listI)\n",
    "#         getDenominator(listJ)\n",
    "    return res / (getDenominator(listI) * getDenominator(listJ))\n",
    "    "
   ]
  },
  {
   "cell_type": "code",
   "execution_count": 4,
   "metadata": {},
   "outputs": [
    {
     "name": "stdout",
     "output_type": "stream",
     "text": [
      "[1.0000000000000002, 0.0, 0.2886751345948129, 0.5163977794943222, 0.2886751345948129, 0.33333333333333337, 0.2886751345948129, 0.6666666666666667, 0.7745966692414834, 0.7745966692414834, 0.8164965809277259, 0.8660254037844387, 0.5773502691896258, 0.2886751345948129, 0.5773502691896258, 0.47140452079103173, 0.7745966692414834, 0.5163977794943222, 0.47140452079103173, 0.5163977794943222, 0.7745966692414834, 0.5773502691896258, 0.47140452079103173, 0.5773502691896258, 0.2886751345948129, 0.2581988897471611, 0.5163977794943222, 0.2886751345948129, 0.33333333333333337, 0.40824829046386296, 0.6666666666666667, 0.0, 0.6666666666666667, 0.8164965809277259, 0.5773502691896258, 0.0, 0.2886751345948129, 1.0000000000000002, 0.2581988897471611, 0.5163977794943222, 0.2581988897471611, 0.5773502691896258, 0.8164965809277259, 0.40824829046386296, 0.8164965809277259, 0.2886751345948129, 0.6666666666666667, 0.47140452079103173, 0.33333333333333337, 0.2886751345948129, 0.5163977794943222, 0.7745966692414834, 0.5163977794943222, 0.2886751345948129, 0.6666666666666667, 0.33333333333333337, 0.0, 0.33333333333333337, 0.5163977794943222, 0.8660254037844387, 0.8164965809277259, 0.8164965809277259, 0.2886751345948129, 0.2886751345948129, 0.0, 0.6666666666666667, 0.33333333333333337, 0.5163977794943222, 0.2886751345948129, 0.5163977794943222, 0.6666666666666667, 0.47140452079103173, 0.7745966692414834, 0.5163977794943222, 0.6666666666666667, 0.5163977794943222, 0.5163977794943222, 0.2886751345948129, 0.2886751345948129, 0.2581988897471611, 0.7071067811865476, 0.2581988897471611, 0.2581988897471611, 0.2886751345948129, 0.33333333333333337, 0.2886751345948129, 0.5773502691896258, 0.47140452079103173, 0.2886751345948129, 0.6666666666666667, 0.2581988897471611, 0.8660254037844387, 0.33333333333333337, 0.2886751345948129, 0.5163977794943222, 0.5773502691896258, 0.6666666666666667, 0.5773502691896258, 0.33333333333333337, 0.33333333333333337, 0.33333333333333337, 0.2886751345948129, 0.5163977794943222, 0.40824829046386296, 0.7745966692414834, 0.5163977794943222, 0.5163977794943222, 0.6666666666666667, 0.5163977794943222, 0.5773502691896258, 0.33333333333333337, 1.0000000000000002, 0.5773502691896258, 0.5773502691896258, 0.7071067811865476, 0.5773502691896258, 0.2886751345948129]\n"
     ]
    }
   ],
   "source": [
    "similarity = []\n",
    "for i in range(117):\n",
    "    similarity_element = []\n",
    "    for j in range(117):\n",
    "        x = getSimilarity(i, j)\n",
    "        similarity_element.append(x)\n",
    "    similarity.append(similarity_element)\n",
    "    \n",
    "print(similarity[0])"
   ]
  }
 ],
 "metadata": {
  "kernelspec": {
   "display_name": "Python 3",
   "language": "python",
   "name": "python3"
  },
  "language_info": {
   "codemirror_mode": {
    "name": "ipython",
    "version": 3
   },
   "file_extension": ".py",
   "mimetype": "text/x-python",
   "name": "python",
   "nbconvert_exporter": "python",
   "pygments_lexer": "ipython3",
   "version": "3.6.6"
  }
 },
 "nbformat": 4,
 "nbformat_minor": 2
}
