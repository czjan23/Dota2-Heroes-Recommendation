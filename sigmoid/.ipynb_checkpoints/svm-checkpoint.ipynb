{
 "cells": [
  {
   "cell_type": "code",
   "execution_count": 1,
   "metadata": {},
   "outputs": [],
   "source": [
    "from sklearn import svm\n",
    "from sklearn.model_selection import train_test_split\n",
    "import numpy as np\n",
    "\n",
    "feature_train = []\n",
    "label_train = []\n",
    "\n",
    "with open('feature train.txt','r') as openFile:\n",
    "    for data in openFile:  \n",
    "        data = data.split()\n",
    "        temp = []\n",
    "        for d in data:\n",
    "            temp.append(int(d))\n",
    "        feature_train.append(temp)\n",
    "with open('label train.txt','r') as openFile:\n",
    "    for data in openFile:  \n",
    "        label_train.append(int(data))\n",
    "\n",
    "feature_train = np.array(feature_train)\n",
    "label_train = np.array(label_train)\n",
    "\n",
    "\n",
    "feature_test=[]\n",
    "label_test=[]\n",
    "with open('feature test.txt','r') as openFile:\n",
    "    for data in openFile:  \n",
    "        data = data.split()\n",
    "        temp = []\n",
    "        for d in data:\n",
    "            temp.append(int(d))\n",
    "        feature_test.append(temp)\n",
    "with open('label test.txt','r') as openFile:\n",
    "    for data in openFile:\n",
    "        label_test.append(int(data))\n",
    "\n",
    "        \n",
    "feature_test = np.array(feature_test)\n",
    "label_test = np.array(label_test)\n",
    "\n",
    "\n"
   ]
  },
  {
   "cell_type": "code",
   "execution_count": null,
   "metadata": {},
   "outputs": [
    {
     "name": "stdout",
     "output_type": "stream",
     "text": [
      "[LibSVM]"
     ]
    }
   ],
   "source": [
    "SVM = svm.SVC(gamma='auto',verbose=True)\n",
    "SVM.fit(feature_train, label_train)  "
   ]
  },
  {
   "cell_type": "code",
   "execution_count": null,
   "metadata": {},
   "outputs": [],
   "source": [
    "prediction = SVM.predict(feature_test)"
   ]
  }
 ],
 "metadata": {
  "kernelspec": {
   "display_name": "Python 3",
   "language": "python",
   "name": "python3"
  },
  "language_info": {
   "codemirror_mode": {
    "name": "ipython",
    "version": 3
   },
   "file_extension": ".py",
   "mimetype": "text/x-python",
   "name": "python",
   "nbconvert_exporter": "python",
   "pygments_lexer": "ipython3",
   "version": "3.6.6"
  }
 },
 "nbformat": 4,
 "nbformat_minor": 2
}
