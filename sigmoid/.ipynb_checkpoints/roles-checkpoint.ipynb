{
 "cells": [
  {
   "cell_type": "code",
   "execution_count": 24,
   "metadata": {},
   "outputs": [
    {
     "name": "stdout",
     "output_type": "stream",
     "text": [
      "{'Durable', 'Support', 'Escape', 'Disabler', 'Pusher', 'Jungler', 'Nuker', 'Carry', 'Initiator'}\n"
     ]
    }
   ],
   "source": [
    "import json\n",
    "info = []\n",
    "with open('dataset/heroes.json','r') as file :\n",
    "    for line in file :\n",
    "        info.append(json.loads(line))\n",
    "# print(info[0])\n",
    "roles = []\n",
    "i = 1\n",
    "for dic in info:\n",
    "    newDic = {'id': i, 'name': dic['name'], 'roles': dic['roles']}\n",
    "    roles.append(newDic)\n",
    "    i += 1\n",
    "\n",
    "# for x in range(len(roles)):\n",
    "#     print(roles)\n",
    "#     print('\\n')\n",
    "\n",
    "rolesType = []\n",
    "for x in range(len(roles)):\n",
    "    for role in roles[x]['roles']:\n",
    "        rolesType.append(role)\n",
    "        \n",
    "print(set(rolesType))\n",
    "# print(roles)\n",
    "\n"
   ]
  },
  {
   "cell_type": "code",
   "execution_count": 30,
   "metadata": {},
   "outputs": [
    {
     "name": "stdout",
     "output_type": "stream",
     "text": [
      "['Durable', 'Support', 'Escape', 'Disabler', 'Pusher', 'Jungler', 'Nuker', 'Carry', 'Initiator']\n",
      "[[0, 0, 1, 0, 0, 0, 1, 1, 0], [1, 0, 0, 1, 0, 1, 0, 0, 1], [1, 1, 0, 1, 0, 0, 1, 0, 0]]\n"
     ]
    }
   ],
   "source": [
    "# calculate similarity between heroes\n",
    "rolesType= list(set(rolesType))\n",
    "print(rolesType)\n",
    "\n",
    "role_list = []\n",
    "for x in range(len(roles)):\n",
    "    role_list_element = []\n",
    "    for i in range(9):\n",
    "        role_list_element.append(0)\n",
    "    for role in roles[x]['roles']:\n",
    "        role_list_element[rolesType.index(role)] = 1\n",
    "    role_list.append(role_list_element)\n",
    "    \n",
    "print(role_list[0:3])"
   ]
  },
  {
   "cell_type": "code",
   "execution_count": 31,
   "metadata": {
    "collapsed": true
   },
   "outputs": [],
   "source": [
    "import math\n",
    "\n",
    "def getDenominator(a_list):\n",
    "    res = 0\n",
    "    for x in range(9):\n",
    "        res += a_list[x]\n",
    "    return math.sqrt(res)\n",
    "\n",
    "\n",
    "\n",
    "def getSimilarity(i, j):\n",
    "    \n",
    "    listI = role_list[i]\n",
    "    listJ = role_list[j]\n",
    "    res = 0\n",
    "    for x in range(9):\n",
    "        res += listI[x] * listJ[x]\n",
    "#         getDenominator(listI)\n",
    "#         getDenominator(listJ)\n",
    "    return res / (getDenominator(listI) * getDenominator(listJ))\n",
    "    "
   ]
  },
  {
   "cell_type": "code",
   "execution_count": 35,
   "metadata": {},
   "outputs": [],
   "source": [
    "similarity = []\n",
    "for i in range(117):\n",
    "    similarity_element = []\n",
    "    for j in range(117):\n",
    "        x = getSimilarity(i, j)\n",
    "        similarity_element.append(x)\n",
    "    similarity.append(similarity_element)\n",
    "    \n",
    "print(similarity[0])"
   ]
  }
 ],
 "metadata": {
  "kernelspec": {
   "display_name": "Python 3",
   "language": "python",
   "name": "python3"
  },
  "language_info": {
   "codemirror_mode": {
    "name": "ipython",
    "version": 3
   },
   "file_extension": ".py",
   "mimetype": "text/x-python",
   "name": "python",
   "nbconvert_exporter": "python",
   "pygments_lexer": "ipython3",
   "version": "3.6.6"
  }
 },
 "nbformat": 4,
 "nbformat_minor": 2
}
