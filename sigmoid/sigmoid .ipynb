{
 "cells": [
  {
   "cell_type": "code",
   "execution_count": 1,
   "metadata": {},
   "outputs": [],
   "source": [
    "from tensorflow.keras.models import Sequential\n",
    "from tensorflow.keras.layers import Dense,Activation\n",
    "from tensorflow.keras.optimizers import Adagrad\n",
    "from sklearn.model_selection import train_test_split\n",
    "import numpy as np\n",
    "from tensorflow.keras.models import load_model"
   ]
  },
  {
   "cell_type": "code",
   "execution_count": 2,
   "metadata": {},
   "outputs": [],
   "source": [
    "X = []\n",
    "Y = []\n",
    "\n",
    "with open('feature all_flip.txt','r') as openFile:\n",
    "    for data in openFile:  \n",
    "        data = data.split()\n",
    "        temp = []\n",
    "        for d in data:\n",
    "            temp.append(int(d))\n",
    "        X.append(temp)\n",
    "with open('label all_flip.txt','r') as openFile:\n",
    "    for data in openFile:  \n",
    "        Y.append(int(data))\n",
    "\n",
    "X = np.array(X)\n",
    "Y = np.array(Y)\n",
    "\n",
    "\n",
    "\n",
    "feature_train,feature_test,label_train,label_test= train_test_split(X, Y, random_state=0)\n"
   ]
  },
  {
   "cell_type": "code",
   "execution_count": 3,
   "metadata": {
    "scrolled": false
   },
   "outputs": [
    {
     "name": "stdout",
     "output_type": "stream",
     "text": [
      "Train on 95241 samples, validate on 31747 samples\n",
      "Epoch 1/20\n",
      "95241/95241 [==============================] - 8s 81us/step - loss: 0.7129 - val_loss: 0.6866\n",
      "Epoch 2/20\n",
      "95241/95241 [==============================] - 7s 73us/step - loss: 0.6757 - val_loss: 0.6877\n",
      "Epoch 3/20\n",
      "95241/95241 [==============================] - 7s 77us/step - loss: 0.6356 - val_loss: 0.7205\n",
      "Epoch 4/20\n",
      "95241/95241 [==============================] - 7s 73us/step - loss: 0.5472 - val_loss: 0.7926\n",
      "Epoch 5/20\n",
      "95241/95241 [==============================] - 7s 76us/step - loss: 0.4216 - val_loss: 0.9538\n",
      "Epoch 6/20\n",
      "95241/95241 [==============================] - 7s 72us/step - loss: 0.2623 - val_loss: 1.2754\n",
      "Epoch 7/20\n",
      "95241/95241 [==============================] - 7s 78us/step - loss: 0.1227 - val_loss: 1.6059\n",
      "Epoch 8/20\n",
      "95241/95241 [==============================] - 7s 73us/step - loss: 0.0303 - val_loss: 2.1701\n",
      "Epoch 9/20\n",
      "95241/95241 [==============================] - 7s 74us/step - loss: 0.0080 - val_loss: 2.5663\n",
      "Epoch 10/20\n",
      "95241/95241 [==============================] - 7s 72us/step - loss: 0.0046 - val_loss: 2.7474\n",
      "Epoch 11/20\n",
      "95241/95241 [==============================] - 7s 72us/step - loss: 0.0036 - val_loss: 2.8812\n",
      "Epoch 12/20\n",
      "95241/95241 [==============================] - 7s 72us/step - loss: 0.0035 - val_loss: 2.9534\n",
      "Epoch 13/20\n",
      "95241/95241 [==============================] - 7s 76us/step - loss: 0.0030 - val_loss: 3.0228\n",
      "Epoch 14/20\n",
      "95241/95241 [==============================] - 7s 77us/step - loss: 0.0031 - val_loss: 3.0259\n",
      "Epoch 15/20\n",
      "95241/95241 [==============================] - 7s 73us/step - loss: 0.0024 - val_loss: 3.1125\n",
      "Epoch 16/20\n",
      "95241/95241 [==============================] - 7s 78us/step - loss: 0.0026 - val_loss: 3.1462\n",
      "Epoch 17/20\n",
      "95241/95241 [==============================] - 7s 75us/step - loss: 0.0025 - val_loss: 3.1562\n",
      "Epoch 18/20\n",
      "95241/95241 [==============================] - 7s 73us/step - loss: 0.0023 - val_loss: 3.1790\n",
      "Epoch 19/20\n",
      "95241/95241 [==============================] - 7s 75us/step - loss: 0.0025 - val_loss: 3.2162\n",
      "Epoch 20/20\n",
      "95241/95241 [==============================] - 7s 76us/step - loss: 0.0019 - val_loss: 3.2555\n",
      "0.7867200050398463\n"
     ]
    }
   ],
   "source": [
    "  \n",
    "model = Sequential()\n",
    "model.add(Dense(600,input_dim=234,activation='relu'))\n",
    "model.add(Dense(600,activation='relu'))\n",
    "model.add(Dense(600,activation='relu'))\n",
    "model.add(Dense(600,activation='relu'))\n",
    "\n",
    "model.add(Dense(1,activation='sigmoid'))\n",
    "\n",
    "epochs = 20\n",
    "model.compile(loss='binary_crossentropy', optimizer='Adagrad')\n",
    "x = model.fit(feature_train, label_train, epochs=epochs, batch_size=500,verbose=1,validation_data=(feature_test,label_test))\n",
    "\n",
    "            \n",
    "\n",
    "count = 0\n",
    "for i in range(len(feature_test)):\n",
    "    top = list(feature_test[i][0:117])\n",
    "    bot = list(feature_test[i][117:234])\n",
    "    test = []\n",
    "    test.append(list(feature_test[i]))#regular    \n",
    "    test.append(bot + top) #flip top and bot\n",
    "    test = np.array(test)\n",
    "    \n",
    "    prediction = model.predict(test) \n",
    "    radiant_win = (prediction[0] + 1-prediction[1])/2\n",
    "    \n",
    "    if(radiant_win >= 0.5 and label_test[i] == 1):\n",
    "        count += 1\n",
    "    elif(radiant_win<0.5 and label_test[i]==0):\n",
    "        count += 1   \n",
    "print(count/len(label_test))\n",
    "            "
   ]
  },
  {
   "cell_type": "code",
   "execution_count": 13,
   "metadata": {},
   "outputs": [],
   "source": [
    "model.save('sigmoid prediction.model')"
   ]
  },
  {
   "cell_type": "code",
   "execution_count": null,
   "metadata": {},
   "outputs": [],
   "source": []
  }
 ],
 "metadata": {
  "kernelspec": {
   "display_name": "Python 3",
   "language": "python",
   "name": "python3"
  },
  "language_info": {
   "codemirror_mode": {
    "name": "ipython",
    "version": 3
   },
   "file_extension": ".py",
   "mimetype": "text/x-python",
   "name": "python",
   "nbconvert_exporter": "python",
   "pygments_lexer": "ipython3",
   "version": "3.6.6"
  }
 },
 "nbformat": 4,
 "nbformat_minor": 2
}
