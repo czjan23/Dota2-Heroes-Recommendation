{
 "cells": [
  {
   "cell_type": "code",
   "execution_count": 12,
   "metadata": {},
   "outputs": [],
   "source": [
    "from tensorflow.keras.models import Sequential\n",
    "from tensorflow.keras.layers import Dense,Activation,Dropout\n",
    "from tensorflow.keras.optimizers import Adagrad,SGD\n",
    "from sklearn.model_selection import train_test_split\n",
    "import numpy as np\n",
    "from tensorflow.keras.models import load_model"
   ]
  },
  {
   "cell_type": "code",
   "execution_count": 2,
   "metadata": {},
   "outputs": [],
   "source": [
    "X = []\n",
    "Y = []\n",
    "\n",
    "with open('feature all_flip.txt','r') as openFile:\n",
    "    for data in openFile:  \n",
    "        data = data.split()\n",
    "        temp = []\n",
    "        for d in data:\n",
    "            temp.append(int(d))\n",
    "        X.append(temp)\n",
    "with open('label all_flip.txt','r') as openFile:\n",
    "    for data in openFile:  \n",
    "        Y.append(int(data))\n",
    "\n",
    "X = np.array(X)\n",
    "Y = np.array(Y)\n",
    "\n",
    "\n",
    "\n",
    "feature_train,feature_test,label_train,label_test= train_test_split(X, Y, random_state=0)\n"
   ]
  },
  {
   "cell_type": "code",
   "execution_count": 10,
   "metadata": {
    "scrolled": false
   },
   "outputs": [
    {
     "name": "stdout",
     "output_type": "stream",
     "text": [
      "Train on 95241 samples, validate on 31747 samples\n",
      "Epoch 1/20\n",
      "95241/95241 [==============================] - 5s 53us/step - loss: 0.7052 - val_loss: 0.6886\n",
      "Epoch 2/20\n",
      "95241/95241 [==============================] - 4s 41us/step - loss: 0.6779 - val_loss: 0.6863\n",
      "Epoch 3/20\n",
      "95241/95241 [==============================] - 4s 41us/step - loss: 0.6546 - val_loss: 0.7039\n",
      "Epoch 4/20\n",
      "95241/95241 [==============================] - 4s 42us/step - loss: 0.6028 - val_loss: 0.7507\n",
      "Epoch 5/20\n",
      "95241/95241 [==============================] - 4s 43us/step - loss: 0.5352 - val_loss: 0.8380\n",
      "Epoch 6/20\n",
      "95241/95241 [==============================] - 4s 45us/step - loss: 0.4573 - val_loss: 0.8969\n",
      "Epoch 7/20\n",
      "95241/95241 [==============================] - 4s 41us/step - loss: 0.3761 - val_loss: 1.0320\n",
      "Epoch 8/20\n",
      "95241/95241 [==============================] - 4s 42us/step - loss: 0.2966 - val_loss: 1.1081\n",
      "Epoch 9/20\n",
      "95241/95241 [==============================] - 4s 42us/step - loss: 0.2207 - val_loss: 1.2296\n",
      "Epoch 10/20\n",
      "95241/95241 [==============================] - 4s 44us/step - loss: 0.1488 - val_loss: 1.3815\n",
      "Epoch 11/20\n",
      "95241/95241 [==============================] - 4s 45us/step - loss: 0.0884 - val_loss: 1.6758\n",
      "Epoch 12/20\n",
      "95241/95241 [==============================] - 4s 43us/step - loss: 0.0485 - val_loss: 1.8141\n",
      "Epoch 13/20\n",
      "95241/95241 [==============================] - 4s 46us/step - loss: 0.0269 - val_loss: 2.0067\n",
      "Epoch 14/20\n",
      "95241/95241 [==============================] - 4s 44us/step - loss: 0.0168 - val_loss: 2.1724\n",
      "Epoch 15/20\n",
      "95241/95241 [==============================] - 4s 45us/step - loss: 0.0118 - val_loss: 2.3183\n",
      "Epoch 16/20\n",
      "95241/95241 [==============================] - 4s 46us/step - loss: 0.0090 - val_loss: 2.4340\n",
      "Epoch 17/20\n",
      "95241/95241 [==============================] - 5s 48us/step - loss: 0.0075 - val_loss: 2.5275\n",
      "Epoch 18/20\n",
      "95241/95241 [==============================] - 4s 45us/step - loss: 0.0065 - val_loss: 2.6155\n",
      "Epoch 19/20\n",
      "95241/95241 [==============================] - 4s 46us/step - loss: 0.0060 - val_loss: 2.6763\n",
      "Epoch 20/20\n",
      "95241/95241 [==============================] - 4s 46us/step - loss: 0.0054 - val_loss: 2.7285\n",
      "0.7629382303839732\n"
     ]
    }
   ],
   "source": [
    "loss_func = [\"binary_crossentropy\",\"mean_absolute_percentage_error\",\"mean_squared_error\",\"mean_absolute_error\"]\n",
    "opti= [\"Adagrad\"]\n",
    "activa = ['relu',\"linear\",\"tanh\",\"elu\",\"softplus\"]\n",
    "\n",
    "          \n",
    "model = Sequential()\n",
    "model.add(Dense(500,input_dim=234,activation='relu'))\n",
    "model.add(Dense(500,activation='relu'))\n",
    "model.add(Dense(500,activation='relu'))\n",
    "\n",
    "\n",
    "model.add(Dense(1,activation='sigmoid'))\n",
    "\n",
    "epochs = 20\n",
    "model.compile(loss='binary_crossentropy', optimizer='Adagrad')\n",
    "x = model.fit(feature_train, label_train, epochs=epochs, batch_size=500,verbose=1,validation_data=(feature_test,label_test))\n",
    "\n",
    "            \n",
    "\n",
    "count = 0\n",
    "for i in range(len(feature_test)):\n",
    "    top = list(feature_test[i][0:117])\n",
    "    bot = list(feature_test[i][117:234])\n",
    "    test = []\n",
    "    test.append(list(feature_test[i]))#regular    \n",
    "    test.append(bot + top) #flip top and bot\n",
    "    test = np.array(test)\n",
    "    \n",
    "    prediction = model.predict(test) \n",
    "    radiant_win = (prediction[0] + 1-prediction[1])/2\n",
    "    \n",
    "    if(radiant_win >= 0.5 and label_test[i] == 1):\n",
    "        count += 1\n",
    "    elif(radiant_win<0.5 and label_test[i]==0):\n",
    "        count += 1   \n",
    "print(count/len(label_test))\n",
    "            "
   ]
  },
  {
   "cell_type": "code",
   "execution_count": 13,
   "metadata": {},
   "outputs": [],
   "source": [
    "model.save('sigmoid prediction.model')"
   ]
  },
  {
   "cell_type": "code",
   "execution_count": 14,
   "metadata": {},
   "outputs": [
    {
     "name": "stdout",
     "output_type": "stream",
     "text": [
      "0.7629382303839732\n"
     ]
    }
   ],
   "source": [
    "asd = load_model('sigmoid prediction.model')\n",
    "count = 0\n",
    "for i in range(len(feature_test)):\n",
    "    top = list(feature_test[i][0:117])\n",
    "    bot = list(feature_test[i][117:234])\n",
    "    test = []\n",
    "    test.append(list(feature_test[i]))#regular    \n",
    "    test.append(bot + top) #flip top and bot\n",
    "    test = np.array(test)\n",
    "    \n",
    "    prediction = asd.predict(test) \n",
    "    radiant_win = (prediction[0] + 1-prediction[1])/2\n",
    "    \n",
    "    if(radiant_win >= 0.5 and label_test[i] == 1):\n",
    "        count += 1\n",
    "    elif(radiant_win<0.5 and label_test[i]==0):\n",
    "        count += 1   \n",
    "print(count/len(label_test))\n",
    "            "
   ]
  },
  {
   "cell_type": "code",
   "execution_count": null,
   "metadata": {},
   "outputs": [],
   "source": []
  }
 ],
 "metadata": {
  "kernelspec": {
   "display_name": "Python 3",
   "language": "python",
   "name": "python3"
  },
  "language_info": {
   "codemirror_mode": {
    "name": "ipython",
    "version": 3
   },
   "file_extension": ".py",
   "mimetype": "text/x-python",
   "name": "python",
   "nbconvert_exporter": "python",
   "pygments_lexer": "ipython3",
   "version": "3.6.6"
  }
 },
 "nbformat": 4,
 "nbformat_minor": 2
}
