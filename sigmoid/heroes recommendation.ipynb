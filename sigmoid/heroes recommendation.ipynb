{
 "cells": [
  {
   "cell_type": "code",
   "execution_count": 31,
   "metadata": {},
   "outputs": [],
   "source": [
    "import numpy as np\n",
    "from tensorflow.keras.models import load_model\n",
    "\n",
    "class hero_recommendation():\n",
    "    def __init__(self,team):\n",
    "        self.model = load_model('sigmoid prediction.model')  \n",
    "        self.team = team\n",
    "        \n",
    "    def get_result(self):        \n",
    "\n",
    "        if(len(team)==9):\n",
    "            vector = [0]*234 # if hero id is 5, index 5 will be 1\n",
    "            res = [] #this vector stores each hero's winning change from index 0-116, each index is a hero\n",
    "\n",
    "            for t in self.team:\n",
    "                vector[t] = 1\n",
    "\n",
    "            for z in range(117):\n",
    "                top = list(vector[0:117]) \n",
    "                bot = list(vector[117:234])\n",
    "\n",
    "                top[z] = 1 #hero we try to predict from 0-116\n",
    "\n",
    "                test = []\n",
    "                test.append(top + bot)#regular    \n",
    "                test.append(bot + top) #flip top and bot\n",
    "\n",
    "                test = np.array(test)\n",
    "\n",
    "                prediction = model.predict(test) \n",
    "                winning_chance = (prediction[0] + 1-prediction[1])/2\n",
    "                res.append(float(winning_chance))\n",
    "\n",
    "            res=np.array(res)\n",
    "            return(res.argsort()[-5:][::-1])#print top 5 recommended heroes based on their winning rate\n",
    "        else:\n",
    "            print('wrong team size')"
   ]
  }
 ],
 "metadata": {
  "kernelspec": {
   "display_name": "Python 3",
   "language": "python",
   "name": "python3"
  },
  "language_info": {
   "codemirror_mode": {
    "name": "ipython",
    "version": 3
   },
   "file_extension": ".py",
   "mimetype": "text/x-python",
   "name": "python",
   "nbconvert_exporter": "python",
   "pygments_lexer": "ipython3",
   "version": "3.6.6"
  }
 },
 "nbformat": 4,
 "nbformat_minor": 2
}
