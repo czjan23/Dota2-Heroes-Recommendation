{
 "cells": [
  {
   "cell_type": "code",
   "execution_count": 36,
   "metadata": {},
   "outputs": [],
   "source": [
    "import numpy as np\n",
    "from tensorflow.keras.models import load_model\n",
    "\n",
    "class hero_rec_softmax():\n",
    "    def __init__(self,team):\n",
    "        self.model = load_model('softmax prediction.model')  \n",
    "        self.team = team\n",
    "        \n",
    "    def get_result(self):        \n",
    "\n",
    "        if(len(self.team)==9):\n",
    "            vector = [0]*234 # if hero id is 5, index 5 will be 1\n",
    "            \n",
    "            for t in self.team[0:4]:\n",
    "                vector[t] = 1\n",
    "            for t in self.team[4:]:\n",
    "                vector[117+t] = 1\n",
    "\n",
    "            test = []\n",
    "            test.append(vector)\n",
    "            test = np.array(test)\n",
    "\n",
    "            prediction = self.model.predict(test) \n",
    "            res = prediction[0].argsort()[-5:][::-1]  #show top 5 recommendation\n",
    "            \n",
    "            return(res)\n",
    "        else:\n",
    "            print('wrong team size')"
   ]
  }
 ],
 "metadata": {
  "kernelspec": {
   "display_name": "Python 3",
   "language": "python",
   "name": "python3"
  },
  "language_info": {
   "codemirror_mode": {
    "name": "ipython",
    "version": 3
   },
   "file_extension": ".py",
   "mimetype": "text/x-python",
   "name": "python",
   "nbconvert_exporter": "python",
   "pygments_lexer": "ipython3",
   "version": "3.7.3"
  }
 },
 "nbformat": 4,
 "nbformat_minor": 2
}
